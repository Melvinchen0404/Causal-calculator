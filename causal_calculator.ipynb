{
  "nbformat": 4,
  "nbformat_minor": 0,
  "metadata": {
    "colab": {
      "name": "Causal_calculator.ipynb",
      "provenance": [],
      "collapsed_sections": [],
      "authorship_tag": "ABX9TyNE+vjI00YAUcvH+H9ai3E3",
      "include_colab_link": true
    },
    "kernelspec": {
      "name": "python3",
      "display_name": "Python 3"
    },
    "language_info": {
      "name": "python"
    }
  },
  "cells": [
    {
      "cell_type": "markdown",
      "metadata": {
        "id": "view-in-github",
        "colab_type": "text"
      },
      "source": [
        "<a href=\"https://colab.research.google.com/gist/Melvinchen0404/ca05d50eaa9602a521678770aac89309/causal_calculator.ipynb\" target=\"_parent\"><img src=\"https://colab.research.google.com/assets/colab-badge.svg\" alt=\"Open In Colab\"/></a>"
      ]
    },
    {
      "cell_type": "markdown",
      "source": [
        "#**Causal Calculator**\n",
        "\n",
        "Each patient either **dies** (Y = 1) or **survives** (Y = 0) if **treated** (T = 1) \\\n",
        "Likewise, each patient either **dies** (Y = 1) or **survives** (Y = 0) if **untreated** (T = 0) \\\n",
        "However, only one of the potential outcomes is **actual or observed**: the other outcome remains **counterfactual or counter-to-fact** (since each patient is either treated or untreated) \\\n",
        "According to the **fundamental problem of causal inference** in causal reasoning and causal inference, **only one of the outcomes is observed** for each individual \\\n",
        "\\\n",
        "Nonetheless, if certain conditions (e.g., **exchangeability**) hold in each subgroup of a patient cohort, the outcomes of the **hypothetical population** can be determined probabilistically \\\n",
        "By combining the **sample population** and the **hypothetical\n",
        "population**, we get a total population which is double the\n",
        "size of the real population, with nearly the same number\n",
        "of **treated** (T = 1) and **untreated** (T = 0) patients \\\n",
        "Let us call this total population a **superpopulation**\n",
        "\\\n",
        "**STEP 1:** Consider the following table for this **superpopulation** (including both the **sample population** and the **hypothetical\n",
        "population**): \\\n",
        "\n",
        "&nbsp; | Dead (Y = 1) | Alive (Y = 0) | Total Number of T = 0 or T = 1\n",
        "--- | --- | --- | ---\n",
        "Treated (T = 1) | Treated_and_dead (T = 1, Y = 1) | Treated_and_alive (T = 1, Y = 0) | &nbsp; \n",
        "Treated (T = 0) | Untreated_and_dead (T = 0, Y = 1) | Untreated_and_alive (T = 0, Y = 0) | &nbsp;\n",
        "\n",
        "\\\n",
        "a) In each patient cohort, a patient (**actual or counterfactual**) either receives the **treatment or exposure** (T = 1) or does not (T = 0); \\\n",
        "b) Patients will then transition into one of the two states or healthcare outcomes: they will either **remain alive** (Y = 0) or **die** (Y = 1); \\\n",
        "c) **Death** (Y = 1) is an **absorbing state**, since a patient cannot transition into any other state once this state is reached."
      ],
      "metadata": {
        "id": "febs3RH4gh6k"
      }
    },
    {
      "cell_type": "markdown",
      "source": [
        "**STEP 2:** Introduce the following two parameters relative to this **superpopulation**: \\\n",
        "a) The number of patients who will **die** if **treated** (`Treated_and_dead`); \\\n",
        "b) The number of patients who will **survive** if **treated** (`Treated_and_alive`). \\\n",
        "\\\n",
        "The input values for these parameters must be **integers**."
      ],
      "metadata": {
        "id": "PxJJOr82r2Vb"
      }
    },
    {
      "cell_type": "code",
      "source": [
        "class color:\n",
        "   BOLD = '\\033[1m'\n",
        "   END = '\\033[0m'\n",
        "\n",
        "import random\n",
        "import matplotlib.pyplot as plt\n",
        "\n",
        "#@markdown **Parameters**\n",
        "#@markdown ---\n",
        "Treated_and_dead = 10#@param {class:\"int\"} \n",
        "Treated_and_alive = 2000#@param {class:\"int\"}"
      ],
      "metadata": {
        "id": "6wepg_pHnZPt"
      },
      "execution_count": 100,
      "outputs": []
    },
    {
      "cell_type": "markdown",
      "source": [
        "**STEP 3:** Unless either none or all of the patients in the actual patient cohort are treated, the `Total Number of Patients Treated (T = 1)` will include both patients who **actually** receive treatment and patients who **counterfactually** receive treatment. We can compute the `Total Number of Patients Treated (T = 1)` as a sum of the values of the two parameters for the **superpopulation**."
      ],
      "metadata": {
        "id": "mujvvy2kGxcz"
      }
    },
    {
      "cell_type": "code",
      "source": [
        "sum = int(Treated_and_dead) + int(Treated_and_alive)\n",
        "print(color.BOLD + 'Total Number of Patients Treated (T = 1):' + color.END, sum)"
      ],
      "metadata": {
        "colab": {
          "base_uri": "https://localhost:8080/"
        },
        "id": "fqkF7GSOHnv_",
        "outputId": "4b8e6d8a-a1dc-456f-a31f-1b9207b16c0b"
      },
      "execution_count": 101,
      "outputs": [
        {
          "output_type": "stream",
          "name": "stdout",
          "text": [
            "\u001b[1mTotal Number of Patients Treated (T = 1):\u001b[0m 2010\n"
          ]
        }
      ]
    },
    {
      "cell_type": "markdown",
      "source": [
        "**STEP 4:** Generate a random number of patients (**actual or counterfactual**) who will **die** if **untreated** (`Untreated_and_dead`) and derive the number of patients (**actual or counterfactual**) who will **survive** if **untreated** (`Untreated_and_alive`). Unless either none or all of the patients in the actual patient cohort are **untreated**, this other half of the **superpopulation** (`Total Number of Patients Untreated (T = 0)`) will include both patients who **actually** do not receive treatment and patients who **counterfactually** do not receive treatment."
      ],
      "metadata": {
        "id": "d4_9Y11pvIhy"
      }
    },
    {
      "cell_type": "code",
      "source": [
        "Untreated_and_dead = random.randint(0, int(sum))\n",
        "Untreated_and_alive = sum - Untreated_and_dead\n",
        "\n",
        "print(color.BOLD + 'Total Number of Patients Untreated (T = 0) = Total Number of Patients Treated (T = 1) =' + color.END, sum)\n",
        "print(color.BOLD + 'Untreated_and_dead:' + color.END, Untreated_and_dead, '(randomized)')\n",
        "print(color.BOLD + 'Untreated_and_alive:' + color.END, Untreated_and_alive)"
      ],
      "metadata": {
        "colab": {
          "base_uri": "https://localhost:8080/"
        },
        "id": "YyUeN1V3xQlR",
        "outputId": "bc3e3c83-5a2c-4230-cef0-4ca3c55ffb60"
      },
      "execution_count": 102,
      "outputs": [
        {
          "output_type": "stream",
          "name": "stdout",
          "text": [
            "\u001b[1mTotal Number of Patients Untreated (T = 0) = Total Number of Patients Treated (T = 1) =\u001b[0m 2010\n",
            "\u001b[1mUntreated_and_dead:\u001b[0m 1592 (randomized)\n",
            "\u001b[1mUntreated_and_alive:\u001b[0m 418\n"
          ]
        }
      ]
    },
    {
      "cell_type": "markdown",
      "source": [
        "**STEP 5:** Compute for the various measures of **causal effect**: \\\n",
        "a) The **causal risk difference**; \\\n",
        "b) The **causal risk ratio**; \\\n",
        "c) The **causal odds ratio** \\\n",
        "\\\n",
        "The following definitions of **causal effect** are equivalent: \\\n",
        "a) The **causal risk difference** $\\neq$ 0; \\\n",
        "b) The **causal risk ratio** $\\neq$ 1; \\\n",
        "c) The **causal odds ratio** $\\neq$ 1 \\\n",
        "\\\n",
        "For more on how these measures of **causal effect** are computed, see Hernán (2004): https://jech.bmj.com/content/58/4/265"
      ],
      "metadata": {
        "id": "Rb_52OG8xT2v"
      }
    },
    {
      "cell_type": "code",
      "source": [
        "proportion1 = int(Treated_and_dead) / int(Treated_and_alive)\n",
        "proportion2 = int(Untreated_and_dead) / int(Untreated_and_alive)\n",
        "causal_odds_ratio = proportion1 / proportion2\n",
        "causal_risk_difference = (int(Treated_and_dead) / int(sum)) - (int(Untreated_and_dead) / int(sum))\n",
        "causal_risk_ratio = (int(Treated_and_dead) / int(sum))/(int(Untreated_and_dead) / int(sum))\n",
        "survival_odds = 1/causal_risk_ratio\n",
        "\n",
        "print(color.BOLD + 'Treated_and_dead:' + color.END, Treated_and_dead, '(first parameter) ' + '─' * 3 + ' (1)')\n",
        "print(color.BOLD + 'Untreated_and_dead:' + color.END, Untreated_and_dead, '(randomized) ' + '─' * 3 + ' (2)')\n",
        "print(color.BOLD + 'Total Number of Patients Untreated (T = 0) = Total Number of Patients Treated (T = 1) =' + color.END, sum, '─' * 3 + ' (3)')\n",
        "print(color.BOLD + 'Proportion of dead to alive patients given treatment (T = 1):' + color.END, proportion1, '─' * 3 + ' (4)')\n",
        "print(color.BOLD + 'Proportion of dead to alive patients given no treatment (T = 0):' + color.END, proportion2, '─' * 3 + ' (5)')\n",
        "\n",
        "print( '─' * 70 + '\\n' + color.BOLD + 'MEASURES OF CAUSAL EFFECT (OUTPUT) \\n' + 'Causal odds ratio:' + color.END, causal_odds_ratio, '─' * 3 + ' (4) ÷ (5)')\n",
        "print('The odds of death for a patient if treated are', causal_odds_ratio, 'times that the odds of death for a patient if untreated')\n",
        "print('The odds of survival for a patient if treated are', survival_odds, 'times that the odds of survival for a patient if untreated' + '\\n')\n",
        "print(color.BOLD + 'Causal risk difference:' + color.END, causal_risk_difference, '─' * 3 + ' ((1) ÷ (3)) - ((2) ÷ (3))')\n",
        "print(color.BOLD + 'Causal risk ratio:' + color.END, causal_risk_ratio, '─' * 3 + ' ((1) ÷ (3)) ÷ ((2) ÷ (3))')\n",
        "\n"
      ],
      "metadata": {
        "colab": {
          "base_uri": "https://localhost:8080/"
        },
        "id": "cugLn4hptRUW",
        "outputId": "d4f868bd-d64e-436c-d4c6-73c2c61cc803"
      },
      "execution_count": 103,
      "outputs": [
        {
          "output_type": "stream",
          "name": "stdout",
          "text": [
            "\u001b[1mTreated_and_dead:\u001b[0m 10 (first parameter) ─── (1)\n",
            "\u001b[1mUntreated_and_dead:\u001b[0m 1592 (randomized) ─── (2)\n",
            "\u001b[1mTotal Number of Patients Untreated (T = 0) = Total Number of Patients Treated (T = 1) =\u001b[0m 2010 ─── (3)\n",
            "\u001b[1mProportion of dead to alive patients given treatment (T = 1):\u001b[0m 0.005 ─── (4)\n",
            "\u001b[1mProportion of dead to alive patients given no treatment (T = 0):\u001b[0m 3.8086124401913874 ─── (5)\n",
            "──────────────────────────────────────────────────────────────────────\n",
            "\u001b[1mMEASURES OF CAUSAL EFFECT (OUTPUT) \n",
            "Causal odds ratio:\u001b[0m 0.001312814070351759 ─── (4) ÷ (5)\n",
            "The odds of death for a patient if treated are 0.001312814070351759 times that the odds of death for a patient if untreated\n",
            "The odds of survival for a patient if treated are 159.20000000000002 times that the odds of survival for a patient if untreated\n",
            "\n",
            "\u001b[1mCausal risk difference:\u001b[0m -0.7870646766169155 ─── ((1) ÷ (3)) - ((2) ÷ (3))\n",
            "\u001b[1mCausal risk ratio:\u001b[0m 0.006281407035175879 ─── ((1) ÷ (3)) ÷ ((2) ÷ (3))\n"
          ]
        }
      ]
    }
  ]
}